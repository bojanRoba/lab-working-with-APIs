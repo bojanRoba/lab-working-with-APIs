{
 "cells": [
  {
   "cell_type": "markdown",
   "metadata": {},
   "source": [
    "# Use this notebook for your 3 choices of APIs"
   ]
  },
  {
   "cell_type": "code",
   "execution_count": 1,
   "metadata": {},
   "outputs": [],
   "source": [
    "# libraries\n",
    "\n",
    "import requests\n",
    "import json\n",
    "import pandas as pd\n",
    "from pandas import json_normalize"
   ]
  },
  {
   "cell_type": "code",
   "execution_count": 2,
   "metadata": {},
   "outputs": [],
   "source": [
    "pd.reset_option('display.max_colwidth')"
   ]
  },
  {
   "cell_type": "code",
   "execution_count": 3,
   "metadata": {},
   "outputs": [
    {
     "name": "stdout",
     "output_type": "stream",
     "text": [
      "Arbeitnow: 200\n"
     ]
    }
   ],
   "source": [
    "arbeitnow = requests.get(\"https://arbeitnow.com/api/job-board-api\")\n",
    "print(\"Arbeitnow:\", arbeitnow.status_code)"
   ]
  },
  {
   "cell_type": "markdown",
   "metadata": {},
   "source": [
    "### arbeitnow.com"
   ]
  },
  {
   "cell_type": "markdown",
   "metadata": {},
   "source": [
    "https://www.arbeitnow.com/about | https://www.arbeitnow.com/api/job-board-api"
   ]
  },
  {
   "cell_type": "code",
   "execution_count": 45,
   "metadata": {},
   "outputs": [],
   "source": [
    "response_arbeitnow = requests.get(\"https://arbeitnow.com/api/job-board-api\")\n",
    "# response_arbeitnow.content"
   ]
  },
  {
   "cell_type": "code",
   "execution_count": 5,
   "metadata": {},
   "outputs": [
    {
     "data": {
      "text/plain": [
       "382944"
      ]
     },
     "execution_count": 5,
     "metadata": {},
     "output_type": "execute_result"
    }
   ],
   "source": [
    "len(response_arbeitnow.text)"
   ]
  },
  {
   "cell_type": "code",
   "execution_count": 6,
   "metadata": {},
   "outputs": [],
   "source": [
    "results_arbeitnow = response_arbeitnow.json()\n",
    "# dict(results_arbeitnow)"
   ]
  },
  {
   "cell_type": "code",
   "execution_count": 7,
   "metadata": {},
   "outputs": [
    {
     "name": "stdout",
     "output_type": "stream",
     "text": [
      "<class 'dict'>\n",
      "3\n"
     ]
    }
   ],
   "source": [
    "print(type(results_arbeitnow))\n",
    "print(len(results_arbeitnow))"
   ]
  },
  {
   "cell_type": "code",
   "execution_count": 8,
   "metadata": {},
   "outputs": [
    {
     "data": {
      "text/plain": [
       "dict_keys(['data', 'links', 'meta'])"
      ]
     },
     "execution_count": 8,
     "metadata": {},
     "output_type": "execute_result"
    }
   ],
   "source": [
    "results_arbeitnow.keys()"
   ]
  },
  {
   "cell_type": "code",
   "execution_count": 9,
   "metadata": {
    "scrolled": true
   },
   "outputs": [
    {
     "name": "stdout",
     "output_type": "stream",
     "text": [
      "<class 'list'>\n",
      "100\n"
     ]
    }
   ],
   "source": [
    "print(type(results_arbeitnow['data']))\n",
    "print(len(results_arbeitnow['data']))\n",
    "# list(results_arbeitnow['data'])"
   ]
  },
  {
   "cell_type": "code",
   "execution_count": 10,
   "metadata": {},
   "outputs": [
    {
     "name": "stdout",
     "output_type": "stream",
     "text": [
      "<class 'dict'>\n",
      "4\n"
     ]
    }
   ],
   "source": [
    "print(type(results_arbeitnow['links']))\n",
    "print(len(results_arbeitnow['links']))"
   ]
  },
  {
   "cell_type": "code",
   "execution_count": 11,
   "metadata": {},
   "outputs": [
    {
     "data": {
      "text/plain": [
       "{'first': 'https://www.arbeitnow.com/api/job-board-api?page=1',\n",
       " 'last': None,\n",
       " 'prev': None,\n",
       " 'next': 'https://www.arbeitnow.com/api/job-board-api?page=2'}"
      ]
     },
     "execution_count": 11,
     "metadata": {},
     "output_type": "execute_result"
    }
   ],
   "source": [
    "dict(results_arbeitnow['links'])"
   ]
  },
  {
   "cell_type": "code",
   "execution_count": 12,
   "metadata": {},
   "outputs": [
    {
     "name": "stdout",
     "output_type": "stream",
     "text": [
      "<class 'dict'>\n",
      "7\n"
     ]
    }
   ],
   "source": [
    "print(type(results_arbeitnow['meta']))\n",
    "print(len(results_arbeitnow['meta']))"
   ]
  },
  {
   "cell_type": "code",
   "execution_count": 13,
   "metadata": {},
   "outputs": [
    {
     "data": {
      "text/plain": [
       "{'current_page': 1,\n",
       " 'from': 1,\n",
       " 'path': 'https://www.arbeitnow.com/api/job-board-api',\n",
       " 'per_page': 100,\n",
       " 'to': 100,\n",
       " 'terms': 'This is a free public API for jobs, please do not abuse. I would appreciate linking back to the site. By using the API, you agree to the terms of service present on Arbeitnow.com',\n",
       " 'info': 'Jobs are updated every hour and order by the `created_at` timestamp. Use `?page=` to paginate. Read more information here: https://www.arbeitnow.com/blog/job-board-api'}"
      ]
     },
     "execution_count": 13,
     "metadata": {},
     "output_type": "execute_result"
    }
   ],
   "source": [
    "dict(results_arbeitnow['meta'])"
   ]
  },
  {
   "cell_type": "code",
   "execution_count": 14,
   "metadata": {},
   "outputs": [
    {
     "data": {
      "text/plain": [
       "(100, 10)"
      ]
     },
     "execution_count": 14,
     "metadata": {},
     "output_type": "execute_result"
    }
   ],
   "source": [
    "data_arbeitnow = pd.DataFrame(results_arbeitnow['data'])\n",
    "data_arbeitnow.shape"
   ]
  },
  {
   "cell_type": "code",
   "execution_count": 15,
   "metadata": {},
   "outputs": [
    {
     "data": {
      "text/html": [
       "<div>\n",
       "<style scoped>\n",
       "    .dataframe tbody tr th:only-of-type {\n",
       "        vertical-align: middle;\n",
       "    }\n",
       "\n",
       "    .dataframe tbody tr th {\n",
       "        vertical-align: top;\n",
       "    }\n",
       "\n",
       "    .dataframe thead th {\n",
       "        text-align: right;\n",
       "    }\n",
       "</style>\n",
       "<table border=\"1\" class=\"dataframe\">\n",
       "  <thead>\n",
       "    <tr style=\"text-align: right;\">\n",
       "      <th></th>\n",
       "      <th>slug</th>\n",
       "      <th>company_name</th>\n",
       "      <th>title</th>\n",
       "      <th>description</th>\n",
       "      <th>remote</th>\n",
       "      <th>url</th>\n",
       "      <th>tags</th>\n",
       "      <th>job_types</th>\n",
       "      <th>location</th>\n",
       "      <th>created_at</th>\n",
       "    </tr>\n",
       "  </thead>\n",
       "  <tbody>\n",
       "    <tr>\n",
       "      <th>0</th>\n",
       "      <td>junior-webentwickler-schwerpunkt-wordpress-gre...</td>\n",
       "      <td>Adenion GmbH</td>\n",
       "      <td>Junior Webentwickler Schwerpunkt WordPress (m/...</td>\n",
       "      <td>&lt;p&gt;Du hast Lust, mit neuesten Technologien zu ...</td>\n",
       "      <td>True</td>\n",
       "      <td>https://www.arbeitnow.com/jobs/companies/adeni...</td>\n",
       "      <td>[Remote, Software Development]</td>\n",
       "      <td>[berufseinstieg]</td>\n",
       "      <td>Grevenbroich</td>\n",
       "      <td>1700588945</td>\n",
       "    </tr>\n",
       "    <tr>\n",
       "      <th>1</th>\n",
       "      <td>werkstudent-app-entwicklung-ios-android-hambur...</td>\n",
       "      <td>CHECK24</td>\n",
       "      <td>Werkstudent (m/w/d) App-Entwicklung iOS/Android</td>\n",
       "      <td>&lt;p&gt;Wir bei &lt;strong&gt;CHECK24 in Hamburg&lt;/strong&gt;...</td>\n",
       "      <td>False</td>\n",
       "      <td>https://www.arbeitnow.com/jobs/companies/check...</td>\n",
       "      <td>[Software Development]</td>\n",
       "      <td>[Working student]</td>\n",
       "      <td>Hamburg</td>\n",
       "      <td>1700588945</td>\n",
       "    </tr>\n",
       "    <tr>\n",
       "      <th>2</th>\n",
       "      <td>commercial-marketing-manager-munich-251088</td>\n",
       "      <td>Moltke Sports GmbH</td>\n",
       "      <td>Commercial Marketing Manager (m/w/d)</td>\n",
       "      <td>&lt;p&gt;Sport ist deine Leidenschaft? Dann bist Du ...</td>\n",
       "      <td>False</td>\n",
       "      <td>https://www.arbeitnow.com/jobs/companies/moltk...</td>\n",
       "      <td>[Marketing Manager]</td>\n",
       "      <td>[]</td>\n",
       "      <td>Munich</td>\n",
       "      <td>1700588945</td>\n",
       "    </tr>\n",
       "    <tr>\n",
       "      <th>3</th>\n",
       "      <td>it-kommunikationsmanager-car-configurator-ulm-...</td>\n",
       "      <td>univativ GmbH</td>\n",
       "      <td>IT Kommunikationsmanager (m/w/d) Car Configurator</td>\n",
       "      <td>&lt;p&gt;&lt;strong&gt;Baldmöglichst, bis zum 01.06.2025 |...</td>\n",
       "      <td>False</td>\n",
       "      <td>https://www.arbeitnow.com/jobs/companies/univa...</td>\n",
       "      <td>[IT]</td>\n",
       "      <td>[]</td>\n",
       "      <td>Ulm</td>\n",
       "      <td>1700588945</td>\n",
       "    </tr>\n",
       "    <tr>\n",
       "      <th>4</th>\n",
       "      <td>social-performance-marketing-managerin-aschhei...</td>\n",
       "      <td>Searchtalent</td>\n",
       "      <td>Social Performance Marketing Manager:in (m/w/d)</td>\n",
       "      <td>&lt;p&gt;Mit einem bunten und hochmotivierten Team v...</td>\n",
       "      <td>False</td>\n",
       "      <td>https://www.arbeitnow.com/jobs/companies/searc...</td>\n",
       "      <td>[Social Media Manager]</td>\n",
       "      <td>[berufserfahren]</td>\n",
       "      <td>Aschheim</td>\n",
       "      <td>1700588945</td>\n",
       "    </tr>\n",
       "    <tr>\n",
       "      <th>5</th>\n",
       "      <td>cro-specialist-conversion-rate-optimization-ma...</td>\n",
       "      <td>FFG FINANZCHECK Finanzportale GmbH</td>\n",
       "      <td>CRO Specialist |Conversion Rate Optimization M...</td>\n",
       "      <td>&lt;p&gt;We are &lt;strong&gt;FINANZCHECK.de&lt;/strong&gt; – &lt;s...</td>\n",
       "      <td>False</td>\n",
       "      <td>https://www.arbeitnow.com/jobs/companies/ffg-f...</td>\n",
       "      <td>[Product Management]</td>\n",
       "      <td>[]</td>\n",
       "      <td>Berlin</td>\n",
       "      <td>1700588945</td>\n",
       "    </tr>\n",
       "    <tr>\n",
       "      <th>6</th>\n",
       "      <td>cro-specialist-conversion-rate-optimization-ma...</td>\n",
       "      <td>FFG FINANZCHECK Finanzportale GmbH</td>\n",
       "      <td>CRO Specialist |Conversion Rate Optimization M...</td>\n",
       "      <td>&lt;p&gt;We are &lt;strong&gt;FINANZCHECK.de&lt;/strong&gt; – &lt;s...</td>\n",
       "      <td>False</td>\n",
       "      <td>https://www.arbeitnow.com/jobs/companies/ffg-f...</td>\n",
       "      <td>[Product Management]</td>\n",
       "      <td>[]</td>\n",
       "      <td>Hamburg</td>\n",
       "      <td>1700588945</td>\n",
       "    </tr>\n",
       "    <tr>\n",
       "      <th>7</th>\n",
       "      <td>e-mail-marketing-crm-managerin-dusseldorf-179698</td>\n",
       "      <td>Otto Wilde Grillers GmbH</td>\n",
       "      <td>E-Mail-Marketing / CRM Manager*In (m/w/d)</td>\n",
       "      <td>&lt;h2&gt;Wilde enough?&lt;/h2&gt;\\n&lt;p&gt;Du brennst für E-Ma...</td>\n",
       "      <td>False</td>\n",
       "      <td>https://www.arbeitnow.com/jobs/companies/otto-...</td>\n",
       "      <td>[Marketing and Communication]</td>\n",
       "      <td>[berufserfahren]</td>\n",
       "      <td>Düsseldorf</td>\n",
       "      <td>1700588945</td>\n",
       "    </tr>\n",
       "    <tr>\n",
       "      <th>8</th>\n",
       "      <td>produktmanager-team-unfallversicherungen-munic...</td>\n",
       "      <td>CHECK24</td>\n",
       "      <td>Produktmanager (m/w/d) Team Unfallversicherungen</td>\n",
       "      <td>&lt;p&gt;Du schaffst es, viele Bälle gleichzeitig in...</td>\n",
       "      <td>False</td>\n",
       "      <td>https://www.arbeitnow.com/jobs/companies/check...</td>\n",
       "      <td>[Product Management]</td>\n",
       "      <td>[]</td>\n",
       "      <td>Munich</td>\n",
       "      <td>1700588945</td>\n",
       "    </tr>\n",
       "    <tr>\n",
       "      <th>9</th>\n",
       "      <td>werkstudent-php-entwicklung-remote-munich-238769</td>\n",
       "      <td>Mischki eG</td>\n",
       "      <td>Werkstudent PHP-Entwicklung (Remote)</td>\n",
       "      <td>&lt;p&gt;Wir suchen eine engagierte und vielseitige ...</td>\n",
       "      <td>True</td>\n",
       "      <td>https://www.arbeitnow.com/jobs/companies/misch...</td>\n",
       "      <td>[Remote, Web Development]</td>\n",
       "      <td>[]</td>\n",
       "      <td>Munich</td>\n",
       "      <td>1700588945</td>\n",
       "    </tr>\n",
       "  </tbody>\n",
       "</table>\n",
       "</div>"
      ],
      "text/plain": [
       "                                                slug  \\\n",
       "0  junior-webentwickler-schwerpunkt-wordpress-gre...   \n",
       "1  werkstudent-app-entwicklung-ios-android-hambur...   \n",
       "2         commercial-marketing-manager-munich-251088   \n",
       "3  it-kommunikationsmanager-car-configurator-ulm-...   \n",
       "4  social-performance-marketing-managerin-aschhei...   \n",
       "5  cro-specialist-conversion-rate-optimization-ma...   \n",
       "6  cro-specialist-conversion-rate-optimization-ma...   \n",
       "7   e-mail-marketing-crm-managerin-dusseldorf-179698   \n",
       "8  produktmanager-team-unfallversicherungen-munic...   \n",
       "9   werkstudent-php-entwicklung-remote-munich-238769   \n",
       "\n",
       "                         company_name  \\\n",
       "0                        Adenion GmbH   \n",
       "1                             CHECK24   \n",
       "2                  Moltke Sports GmbH   \n",
       "3                       univativ GmbH   \n",
       "4                        Searchtalent   \n",
       "5  FFG FINANZCHECK Finanzportale GmbH   \n",
       "6  FFG FINANZCHECK Finanzportale GmbH   \n",
       "7            Otto Wilde Grillers GmbH   \n",
       "8                             CHECK24   \n",
       "9                          Mischki eG   \n",
       "\n",
       "                                               title  \\\n",
       "0  Junior Webentwickler Schwerpunkt WordPress (m/...   \n",
       "1    Werkstudent (m/w/d) App-Entwicklung iOS/Android   \n",
       "2               Commercial Marketing Manager (m/w/d)   \n",
       "3  IT Kommunikationsmanager (m/w/d) Car Configurator   \n",
       "4    Social Performance Marketing Manager:in (m/w/d)   \n",
       "5  CRO Specialist |Conversion Rate Optimization M...   \n",
       "6  CRO Specialist |Conversion Rate Optimization M...   \n",
       "7          E-Mail-Marketing / CRM Manager*In (m/w/d)   \n",
       "8   Produktmanager (m/w/d) Team Unfallversicherungen   \n",
       "9               Werkstudent PHP-Entwicklung (Remote)   \n",
       "\n",
       "                                         description  remote  \\\n",
       "0  <p>Du hast Lust, mit neuesten Technologien zu ...    True   \n",
       "1  <p>Wir bei <strong>CHECK24 in Hamburg</strong>...   False   \n",
       "2  <p>Sport ist deine Leidenschaft? Dann bist Du ...   False   \n",
       "3  <p><strong>Baldmöglichst, bis zum 01.06.2025 |...   False   \n",
       "4  <p>Mit einem bunten und hochmotivierten Team v...   False   \n",
       "5  <p>We are <strong>FINANZCHECK.de</strong> – <s...   False   \n",
       "6  <p>We are <strong>FINANZCHECK.de</strong> – <s...   False   \n",
       "7  <h2>Wilde enough?</h2>\\n<p>Du brennst für E-Ma...   False   \n",
       "8  <p>Du schaffst es, viele Bälle gleichzeitig in...   False   \n",
       "9  <p>Wir suchen eine engagierte und vielseitige ...    True   \n",
       "\n",
       "                                                 url  \\\n",
       "0  https://www.arbeitnow.com/jobs/companies/adeni...   \n",
       "1  https://www.arbeitnow.com/jobs/companies/check...   \n",
       "2  https://www.arbeitnow.com/jobs/companies/moltk...   \n",
       "3  https://www.arbeitnow.com/jobs/companies/univa...   \n",
       "4  https://www.arbeitnow.com/jobs/companies/searc...   \n",
       "5  https://www.arbeitnow.com/jobs/companies/ffg-f...   \n",
       "6  https://www.arbeitnow.com/jobs/companies/ffg-f...   \n",
       "7  https://www.arbeitnow.com/jobs/companies/otto-...   \n",
       "8  https://www.arbeitnow.com/jobs/companies/check...   \n",
       "9  https://www.arbeitnow.com/jobs/companies/misch...   \n",
       "\n",
       "                             tags          job_types      location  created_at  \n",
       "0  [Remote, Software Development]   [berufseinstieg]  Grevenbroich  1700588945  \n",
       "1          [Software Development]  [Working student]       Hamburg  1700588945  \n",
       "2             [Marketing Manager]                 []        Munich  1700588945  \n",
       "3                            [IT]                 []           Ulm  1700588945  \n",
       "4          [Social Media Manager]   [berufserfahren]      Aschheim  1700588945  \n",
       "5            [Product Management]                 []        Berlin  1700588945  \n",
       "6            [Product Management]                 []       Hamburg  1700588945  \n",
       "7   [Marketing and Communication]   [berufserfahren]    Düsseldorf  1700588945  \n",
       "8            [Product Management]                 []        Munich  1700588945  \n",
       "9       [Remote, Web Development]                 []        Munich  1700588945  "
      ]
     },
     "execution_count": 15,
     "metadata": {},
     "output_type": "execute_result"
    }
   ],
   "source": [
    "data_arbeitnow.head(10)"
   ]
  },
  {
   "cell_type": "code",
   "execution_count": 16,
   "metadata": {
    "scrolled": false
   },
   "outputs": [
    {
     "data": {
      "text/html": [
       "<div>\n",
       "<style scoped>\n",
       "    .dataframe tbody tr th:only-of-type {\n",
       "        vertical-align: middle;\n",
       "    }\n",
       "\n",
       "    .dataframe tbody tr th {\n",
       "        vertical-align: top;\n",
       "    }\n",
       "\n",
       "    .dataframe thead th {\n",
       "        text-align: right;\n",
       "    }\n",
       "</style>\n",
       "<table border=\"1\" class=\"dataframe\">\n",
       "  <thead>\n",
       "    <tr style=\"text-align: right;\">\n",
       "      <th></th>\n",
       "      <th>0</th>\n",
       "    </tr>\n",
       "  </thead>\n",
       "  <tbody>\n",
       "    <tr>\n",
       "      <th>0</th>\n",
       "      <td>current_page</td>\n",
       "    </tr>\n",
       "    <tr>\n",
       "      <th>1</th>\n",
       "      <td>from</td>\n",
       "    </tr>\n",
       "    <tr>\n",
       "      <th>2</th>\n",
       "      <td>path</td>\n",
       "    </tr>\n",
       "    <tr>\n",
       "      <th>3</th>\n",
       "      <td>per_page</td>\n",
       "    </tr>\n",
       "    <tr>\n",
       "      <th>4</th>\n",
       "      <td>to</td>\n",
       "    </tr>\n",
       "    <tr>\n",
       "      <th>5</th>\n",
       "      <td>terms</td>\n",
       "    </tr>\n",
       "    <tr>\n",
       "      <th>6</th>\n",
       "      <td>info</td>\n",
       "    </tr>\n",
       "  </tbody>\n",
       "</table>\n",
       "</div>"
      ],
      "text/plain": [
       "              0\n",
       "0  current_page\n",
       "1          from\n",
       "2          path\n",
       "3      per_page\n",
       "4            to\n",
       "5         terms\n",
       "6          info"
      ]
     },
     "execution_count": 16,
     "metadata": {},
     "output_type": "execute_result"
    }
   ],
   "source": [
    "pd.DataFrame(results_arbeitnow['meta'].keys())"
   ]
  },
  {
   "cell_type": "code",
   "execution_count": 17,
   "metadata": {
    "scrolled": false
   },
   "outputs": [],
   "source": [
    "# extract 'arbeitnow' page links"
   ]
  },
  {
   "cell_type": "code",
   "execution_count": 18,
   "metadata": {},
   "outputs": [],
   "source": [
    "arbeitnow_links = []"
   ]
  },
  {
   "cell_type": "code",
   "execution_count": 19,
   "metadata": {},
   "outputs": [
    {
     "name": "stdout",
     "output_type": "stream",
     "text": [
      "[1, 2, 3, 4, 5, 6, 7, 8, 9, 10, 11, 12, 13, 14, 15, 16, 17, 18, 19]\n"
     ]
    }
   ],
   "source": [
    "page_num = [*range(1,20,1)]\n",
    "print(page_num)"
   ]
  },
  {
   "cell_type": "code",
   "execution_count": 20,
   "metadata": {},
   "outputs": [],
   "source": [
    "for i in page_num:\n",
    "    arbeitnow_links.append('https://www.arbeitnow.com/api/job-board-api?page='+str(i))"
   ]
  },
  {
   "cell_type": "code",
   "execution_count": 21,
   "metadata": {},
   "outputs": [
    {
     "data": {
      "text/plain": [
       "['https://www.arbeitnow.com/api/job-board-api?page=1',\n",
       " 'https://www.arbeitnow.com/api/job-board-api?page=2',\n",
       " 'https://www.arbeitnow.com/api/job-board-api?page=3',\n",
       " 'https://www.arbeitnow.com/api/job-board-api?page=4',\n",
       " 'https://www.arbeitnow.com/api/job-board-api?page=5',\n",
       " 'https://www.arbeitnow.com/api/job-board-api?page=6',\n",
       " 'https://www.arbeitnow.com/api/job-board-api?page=7',\n",
       " 'https://www.arbeitnow.com/api/job-board-api?page=8',\n",
       " 'https://www.arbeitnow.com/api/job-board-api?page=9',\n",
       " 'https://www.arbeitnow.com/api/job-board-api?page=10',\n",
       " 'https://www.arbeitnow.com/api/job-board-api?page=11',\n",
       " 'https://www.arbeitnow.com/api/job-board-api?page=12',\n",
       " 'https://www.arbeitnow.com/api/job-board-api?page=13',\n",
       " 'https://www.arbeitnow.com/api/job-board-api?page=14',\n",
       " 'https://www.arbeitnow.com/api/job-board-api?page=15',\n",
       " 'https://www.arbeitnow.com/api/job-board-api?page=16',\n",
       " 'https://www.arbeitnow.com/api/job-board-api?page=17',\n",
       " 'https://www.arbeitnow.com/api/job-board-api?page=18',\n",
       " 'https://www.arbeitnow.com/api/job-board-api?page=19']"
      ]
     },
     "execution_count": 21,
     "metadata": {},
     "output_type": "execute_result"
    }
   ],
   "source": [
    "arbeitnow_links"
   ]
  },
  {
   "cell_type": "code",
   "execution_count": 22,
   "metadata": {},
   "outputs": [
    {
     "data": {
      "text/html": [
       "<div>\n",
       "<style scoped>\n",
       "    .dataframe tbody tr th:only-of-type {\n",
       "        vertical-align: middle;\n",
       "    }\n",
       "\n",
       "    .dataframe tbody tr th {\n",
       "        vertical-align: top;\n",
       "    }\n",
       "\n",
       "    .dataframe thead th {\n",
       "        text-align: right;\n",
       "    }\n",
       "</style>\n",
       "<table border=\"1\" class=\"dataframe\">\n",
       "  <thead>\n",
       "    <tr style=\"text-align: right;\">\n",
       "      <th></th>\n",
       "      <th>slug</th>\n",
       "      <th>company_name</th>\n",
       "      <th>title</th>\n",
       "      <th>description</th>\n",
       "      <th>remote</th>\n",
       "      <th>url</th>\n",
       "      <th>tags</th>\n",
       "      <th>job_types</th>\n",
       "      <th>location</th>\n",
       "      <th>created_at</th>\n",
       "    </tr>\n",
       "  </thead>\n",
       "  <tbody>\n",
       "    <tr>\n",
       "      <th>0</th>\n",
       "      <td>junior-personalberater-consultant-munich-391979</td>\n",
       "      <td>OPUS ONE Recruitment GmbH</td>\n",
       "      <td>(Junior) Personalberater | Consultant (m/w/d)</td>\n",
       "      <td>&lt;p&gt;&lt;strong&gt;OPUS ONE&lt;/strong&gt; Recruitment ist e...</td>\n",
       "      <td>False</td>\n",
       "      <td>https://www.arbeitnow.com/jobs/companies/opus-...</td>\n",
       "      <td>[Recruitment and Selection]</td>\n",
       "      <td>[berufserfahren]</td>\n",
       "      <td>Munich</td>\n",
       "      <td>1700135350</td>\n",
       "    </tr>\n",
       "    <tr>\n",
       "      <th>1</th>\n",
       "      <td>sap-support-consultant-mannheim-212814</td>\n",
       "      <td>Pertemps ERP</td>\n",
       "      <td>SAP Support Consultant</td>\n",
       "      <td>&lt;p&gt;&lt;strong&gt;We are looking for an SAP SD Suppor...</td>\n",
       "      <td>False</td>\n",
       "      <td>https://www.arbeitnow.com/jobs/companies/perte...</td>\n",
       "      <td>[IT]</td>\n",
       "      <td>[professional / experienced]</td>\n",
       "      <td>Mannheim</td>\n",
       "      <td>1700135350</td>\n",
       "    </tr>\n",
       "    <tr>\n",
       "      <th>2</th>\n",
       "      <td>fashion-visual-merchandiser-trier-495353</td>\n",
       "      <td>Zara</td>\n",
       "      <td>Fashion Visual Merchandiser (m/w/d)</td>\n",
       "      <td>&lt;p&gt;&lt;strong&gt;ARE YOU FASHION?&lt;/strong&gt;&lt;br&gt;\\nKrea...</td>\n",
       "      <td>False</td>\n",
       "      <td>https://www.arbeitnow.com/jobs/companies/zara/...</td>\n",
       "      <td>[Marketing and Communication]</td>\n",
       "      <td>[]</td>\n",
       "      <td>Trier</td>\n",
       "      <td>1700135350</td>\n",
       "    </tr>\n",
       "    <tr>\n",
       "      <th>3</th>\n",
       "      <td>store-manager-in-voll-oder-teilzeit-30-38h-han...</td>\n",
       "      <td>Lakrids by Johan Bülow GmbH</td>\n",
       "      <td>Store Manager (m/f/x) in Voll- oder Teilzeit (...</td>\n",
       "      <td>&lt;p&gt;&lt;strong&gt;Unsere einzigartige Mission geht we...</td>\n",
       "      <td>False</td>\n",
       "      <td>https://www.arbeitnow.com/jobs/companies/lakri...</td>\n",
       "      <td>[Management, Team Leader]</td>\n",
       "      <td>[teamleitung]</td>\n",
       "      <td>Hanover</td>\n",
       "      <td>1700135350</td>\n",
       "    </tr>\n",
       "    <tr>\n",
       "      <th>4</th>\n",
       "      <td>social-media-marketing-content-manager-frankfu...</td>\n",
       "      <td>Pertemps ERP</td>\n",
       "      <td>Social Media Marketing/Content Manager (m/w/d)</td>\n",
       "      <td>&lt;p&gt;Social Media Marketing/Content Manager (m/w...</td>\n",
       "      <td>True</td>\n",
       "      <td>https://www.arbeitnow.com/jobs/companies/perte...</td>\n",
       "      <td>[Remote, Online Marketing]</td>\n",
       "      <td>[teamleitung]</td>\n",
       "      <td>Frankfurt</td>\n",
       "      <td>1700135350</td>\n",
       "    </tr>\n",
       "    <tr>\n",
       "      <th>...</th>\n",
       "      <td>...</td>\n",
       "      <td>...</td>\n",
       "      <td>...</td>\n",
       "      <td>...</td>\n",
       "      <td>...</td>\n",
       "      <td>...</td>\n",
       "      <td>...</td>\n",
       "      <td>...</td>\n",
       "      <td>...</td>\n",
       "      <td>...</td>\n",
       "    </tr>\n",
       "    <tr>\n",
       "      <th>95</th>\n",
       "      <td>consultant-developer-ms-dynamics-365-business-...</td>\n",
       "      <td>Ritter Technologie GmbH</td>\n",
       "      <td>Consultant / Developer (m/w/d) MS Dynamics 365...</td>\n",
       "      <td>&lt;p&gt;Die &lt;strong&gt;Ritter Technologie GmbH&lt;/strong...</td>\n",
       "      <td>False</td>\n",
       "      <td>https://www.arbeitnow.com/jobs/companies/ritte...</td>\n",
       "      <td>[IT]</td>\n",
       "      <td>[]</td>\n",
       "      <td>Oberhausen</td>\n",
       "      <td>1700074146</td>\n",
       "    </tr>\n",
       "    <tr>\n",
       "      <th>96</th>\n",
       "      <td>open-doors-open-mind-remote-fur-php-fullstacks...</td>\n",
       "      <td>myTalentscout GmbH</td>\n",
       "      <td>Open Doors, open Mind &amp; Remote für PHP Fullsta...</td>\n",
       "      <td>&lt;p&gt;Sorry not Sorry, aber wir werden dir nicht ...</td>\n",
       "      <td>True</td>\n",
       "      <td>https://www.arbeitnow.com/jobs/companies/mytal...</td>\n",
       "      <td>[Remote, Web Development]</td>\n",
       "      <td>[berufserfahren]</td>\n",
       "      <td>Münster</td>\n",
       "      <td>1700074146</td>\n",
       "    </tr>\n",
       "    <tr>\n",
       "      <th>97</th>\n",
       "      <td>technischer-zeichner-technischer-produktdesign...</td>\n",
       "      <td>KRESS Fahrzeugbau GmbH</td>\n",
       "      <td>Technischer Zeichner / Technischer Produktdesi...</td>\n",
       "      <td>&lt;p&gt;Die KRESS Fahrzeugbau GmbH gehört zu den fü...</td>\n",
       "      <td>False</td>\n",
       "      <td>https://www.arbeitnow.com/jobs/companies/kress...</td>\n",
       "      <td>[Automotive Engineering]</td>\n",
       "      <td>[berufserfahren]</td>\n",
       "      <td>Meckesheim</td>\n",
       "      <td>1700074146</td>\n",
       "    </tr>\n",
       "    <tr>\n",
       "      <th>98</th>\n",
       "      <td>die-wahrscheinlich-beste-bilanzbuchhalter-stel...</td>\n",
       "      <td>Schwertfels Consulting GmbH</td>\n",
       "      <td>Die wahrscheinlich beste Bilanzbuchhalter-Stel...</td>\n",
       "      <td>&lt;p&gt;Gut ausgebildete Bilanzbuchhalter (m/w/d), ...</td>\n",
       "      <td>False</td>\n",
       "      <td>https://www.arbeitnow.com/jobs/companies/schwe...</td>\n",
       "      <td>[Finance]</td>\n",
       "      <td>[]</td>\n",
       "      <td>Leipzig</td>\n",
       "      <td>1700074146</td>\n",
       "    </tr>\n",
       "    <tr>\n",
       "      <th>99</th>\n",
       "      <td>die-wahrscheinlich-beste-bilanzbuchhalter-stel...</td>\n",
       "      <td>Schwertfels Consulting GmbH</td>\n",
       "      <td>Die wahrscheinlich beste Bilanzbuchhalter-Stel...</td>\n",
       "      <td>&lt;p&gt;Gut ausgebildete Bilanzbuchhalter (m/w/d), ...</td>\n",
       "      <td>False</td>\n",
       "      <td>https://www.arbeitnow.com/jobs/companies/schwe...</td>\n",
       "      <td>[Finance]</td>\n",
       "      <td>[]</td>\n",
       "      <td>Berlin</td>\n",
       "      <td>1700074146</td>\n",
       "    </tr>\n",
       "  </tbody>\n",
       "</table>\n",
       "<p>100 rows × 10 columns</p>\n",
       "</div>"
      ],
      "text/plain": [
       "                                                 slug  \\\n",
       "0     junior-personalberater-consultant-munich-391979   \n",
       "1              sap-support-consultant-mannheim-212814   \n",
       "2            fashion-visual-merchandiser-trier-495353   \n",
       "3   store-manager-in-voll-oder-teilzeit-30-38h-han...   \n",
       "4   social-media-marketing-content-manager-frankfu...   \n",
       "..                                                ...   \n",
       "95  consultant-developer-ms-dynamics-365-business-...   \n",
       "96  open-doors-open-mind-remote-fur-php-fullstacks...   \n",
       "97  technischer-zeichner-technischer-produktdesign...   \n",
       "98  die-wahrscheinlich-beste-bilanzbuchhalter-stel...   \n",
       "99  die-wahrscheinlich-beste-bilanzbuchhalter-stel...   \n",
       "\n",
       "                   company_name  \\\n",
       "0     OPUS ONE Recruitment GmbH   \n",
       "1                  Pertemps ERP   \n",
       "2                          Zara   \n",
       "3   Lakrids by Johan Bülow GmbH   \n",
       "4                  Pertemps ERP   \n",
       "..                          ...   \n",
       "95      Ritter Technologie GmbH   \n",
       "96           myTalentscout GmbH   \n",
       "97       KRESS Fahrzeugbau GmbH   \n",
       "98  Schwertfels Consulting GmbH   \n",
       "99  Schwertfels Consulting GmbH   \n",
       "\n",
       "                                                title  \\\n",
       "0       (Junior) Personalberater | Consultant (m/w/d)   \n",
       "1                              SAP Support Consultant   \n",
       "2                 Fashion Visual Merchandiser (m/w/d)   \n",
       "3   Store Manager (m/f/x) in Voll- oder Teilzeit (...   \n",
       "4      Social Media Marketing/Content Manager (m/w/d)   \n",
       "..                                                ...   \n",
       "95  Consultant / Developer (m/w/d) MS Dynamics 365...   \n",
       "96  Open Doors, open Mind & Remote für PHP Fullsta...   \n",
       "97  Technischer Zeichner / Technischer Produktdesi...   \n",
       "98  Die wahrscheinlich beste Bilanzbuchhalter-Stel...   \n",
       "99  Die wahrscheinlich beste Bilanzbuchhalter-Stel...   \n",
       "\n",
       "                                          description  remote  \\\n",
       "0   <p><strong>OPUS ONE</strong> Recruitment ist e...   False   \n",
       "1   <p><strong>We are looking for an SAP SD Suppor...   False   \n",
       "2   <p><strong>ARE YOU FASHION?</strong><br>\\nKrea...   False   \n",
       "3   <p><strong>Unsere einzigartige Mission geht we...   False   \n",
       "4   <p>Social Media Marketing/Content Manager (m/w...    True   \n",
       "..                                                ...     ...   \n",
       "95  <p>Die <strong>Ritter Technologie GmbH</strong...   False   \n",
       "96  <p>Sorry not Sorry, aber wir werden dir nicht ...    True   \n",
       "97  <p>Die KRESS Fahrzeugbau GmbH gehört zu den fü...   False   \n",
       "98  <p>Gut ausgebildete Bilanzbuchhalter (m/w/d), ...   False   \n",
       "99  <p>Gut ausgebildete Bilanzbuchhalter (m/w/d), ...   False   \n",
       "\n",
       "                                                  url  \\\n",
       "0   https://www.arbeitnow.com/jobs/companies/opus-...   \n",
       "1   https://www.arbeitnow.com/jobs/companies/perte...   \n",
       "2   https://www.arbeitnow.com/jobs/companies/zara/...   \n",
       "3   https://www.arbeitnow.com/jobs/companies/lakri...   \n",
       "4   https://www.arbeitnow.com/jobs/companies/perte...   \n",
       "..                                                ...   \n",
       "95  https://www.arbeitnow.com/jobs/companies/ritte...   \n",
       "96  https://www.arbeitnow.com/jobs/companies/mytal...   \n",
       "97  https://www.arbeitnow.com/jobs/companies/kress...   \n",
       "98  https://www.arbeitnow.com/jobs/companies/schwe...   \n",
       "99  https://www.arbeitnow.com/jobs/companies/schwe...   \n",
       "\n",
       "                             tags                     job_types    location  \\\n",
       "0     [Recruitment and Selection]              [berufserfahren]      Munich   \n",
       "1                            [IT]  [professional / experienced]    Mannheim   \n",
       "2   [Marketing and Communication]                            []       Trier   \n",
       "3       [Management, Team Leader]                 [teamleitung]     Hanover   \n",
       "4      [Remote, Online Marketing]                 [teamleitung]   Frankfurt   \n",
       "..                            ...                           ...         ...   \n",
       "95                           [IT]                            []  Oberhausen   \n",
       "96      [Remote, Web Development]              [berufserfahren]     Münster   \n",
       "97       [Automotive Engineering]              [berufserfahren]  Meckesheim   \n",
       "98                      [Finance]                            []     Leipzig   \n",
       "99                      [Finance]                            []      Berlin   \n",
       "\n",
       "    created_at  \n",
       "0   1700135350  \n",
       "1   1700135350  \n",
       "2   1700135350  \n",
       "3   1700135350  \n",
       "4   1700135350  \n",
       "..         ...  \n",
       "95  1700074146  \n",
       "96  1700074146  \n",
       "97  1700074146  \n",
       "98  1700074146  \n",
       "99  1700074146  \n",
       "\n",
       "[100 rows x 10 columns]"
      ]
     },
     "execution_count": 22,
     "metadata": {},
     "output_type": "execute_result"
    }
   ],
   "source": [
    "response_arbeitnow = requests.get( 'https://www.arbeitnow.com/api/job-board-api?page=14')\n",
    "#print(response_arbeitnow.content)\n",
    "results_arbeitnow = response_arbeitnow.json()\n",
    "#results_arbeitnow[]\n",
    "data_arbeitnow = pd.DataFrame(results_arbeitnow['data'])\n",
    "data_arbeitnow"
   ]
  },
  {
   "cell_type": "code",
   "execution_count": 23,
   "metadata": {},
   "outputs": [
    {
     "data": {
      "text/html": [
       "<div>\n",
       "<style scoped>\n",
       "    .dataframe tbody tr th:only-of-type {\n",
       "        vertical-align: middle;\n",
       "    }\n",
       "\n",
       "    .dataframe tbody tr th {\n",
       "        vertical-align: top;\n",
       "    }\n",
       "\n",
       "    .dataframe thead th {\n",
       "        text-align: right;\n",
       "    }\n",
       "</style>\n",
       "<table border=\"1\" class=\"dataframe\">\n",
       "  <thead>\n",
       "    <tr style=\"text-align: right;\">\n",
       "      <th></th>\n",
       "      <th>slug</th>\n",
       "      <th>company_name</th>\n",
       "      <th>title</th>\n",
       "      <th>description</th>\n",
       "      <th>remote</th>\n",
       "      <th>url</th>\n",
       "      <th>tags</th>\n",
       "      <th>job_types</th>\n",
       "      <th>location</th>\n",
       "      <th>created_at</th>\n",
       "    </tr>\n",
       "  </thead>\n",
       "  <tbody>\n",
       "    <tr>\n",
       "      <th>0</th>\n",
       "      <td>junior-webentwickler-schwerpunkt-wordpress-gre...</td>\n",
       "      <td>Adenion GmbH</td>\n",
       "      <td>Junior Webentwickler Schwerpunkt WordPress (m/...</td>\n",
       "      <td>&lt;p&gt;Du hast Lust, mit neuesten Technologien zu ...</td>\n",
       "      <td>True</td>\n",
       "      <td>https://www.arbeitnow.com/jobs/companies/adeni...</td>\n",
       "      <td>[Remote, Software Development]</td>\n",
       "      <td>[berufseinstieg]</td>\n",
       "      <td>Grevenbroich</td>\n",
       "      <td>1700588945</td>\n",
       "    </tr>\n",
       "    <tr>\n",
       "      <th>1</th>\n",
       "      <td>werkstudent-app-entwicklung-ios-android-hambur...</td>\n",
       "      <td>CHECK24</td>\n",
       "      <td>Werkstudent (m/w/d) App-Entwicklung iOS/Android</td>\n",
       "      <td>&lt;p&gt;Wir bei &lt;strong&gt;CHECK24 in Hamburg&lt;/strong&gt;...</td>\n",
       "      <td>False</td>\n",
       "      <td>https://www.arbeitnow.com/jobs/companies/check...</td>\n",
       "      <td>[Software Development]</td>\n",
       "      <td>[Working student]</td>\n",
       "      <td>Hamburg</td>\n",
       "      <td>1700588945</td>\n",
       "    </tr>\n",
       "    <tr>\n",
       "      <th>2</th>\n",
       "      <td>commercial-marketing-manager-munich-251088</td>\n",
       "      <td>Moltke Sports GmbH</td>\n",
       "      <td>Commercial Marketing Manager (m/w/d)</td>\n",
       "      <td>&lt;p&gt;Sport ist deine Leidenschaft? Dann bist Du ...</td>\n",
       "      <td>False</td>\n",
       "      <td>https://www.arbeitnow.com/jobs/companies/moltk...</td>\n",
       "      <td>[Marketing Manager]</td>\n",
       "      <td>[]</td>\n",
       "      <td>Munich</td>\n",
       "      <td>1700588945</td>\n",
       "    </tr>\n",
       "    <tr>\n",
       "      <th>3</th>\n",
       "      <td>it-kommunikationsmanager-car-configurator-ulm-...</td>\n",
       "      <td>univativ GmbH</td>\n",
       "      <td>IT Kommunikationsmanager (m/w/d) Car Configurator</td>\n",
       "      <td>&lt;p&gt;&lt;strong&gt;Baldmöglichst, bis zum 01.06.2025 |...</td>\n",
       "      <td>False</td>\n",
       "      <td>https://www.arbeitnow.com/jobs/companies/univa...</td>\n",
       "      <td>[IT]</td>\n",
       "      <td>[]</td>\n",
       "      <td>Ulm</td>\n",
       "      <td>1700588945</td>\n",
       "    </tr>\n",
       "    <tr>\n",
       "      <th>4</th>\n",
       "      <td>social-performance-marketing-managerin-aschhei...</td>\n",
       "      <td>Searchtalent</td>\n",
       "      <td>Social Performance Marketing Manager:in (m/w/d)</td>\n",
       "      <td>&lt;p&gt;Mit einem bunten und hochmotivierten Team v...</td>\n",
       "      <td>False</td>\n",
       "      <td>https://www.arbeitnow.com/jobs/companies/searc...</td>\n",
       "      <td>[Social Media Manager]</td>\n",
       "      <td>[berufserfahren]</td>\n",
       "      <td>Aschheim</td>\n",
       "      <td>1700588945</td>\n",
       "    </tr>\n",
       "    <tr>\n",
       "      <th>...</th>\n",
       "      <td>...</td>\n",
       "      <td>...</td>\n",
       "      <td>...</td>\n",
       "      <td>...</td>\n",
       "      <td>...</td>\n",
       "      <td>...</td>\n",
       "      <td>...</td>\n",
       "      <td>...</td>\n",
       "      <td>...</td>\n",
       "      <td>...</td>\n",
       "    </tr>\n",
       "    <tr>\n",
       "      <th>69</th>\n",
       "      <td>online-marketing-manager-dresden-373708</td>\n",
       "      <td>PIPA GmbH</td>\n",
       "      <td>Online Marketing Manager (m/w/d)</td>\n",
       "      <td>&lt;p&gt;&lt;strong&gt;Unser Kunde queo:&lt;/strong&gt;&lt;/p&gt;\\n&lt;p&gt;...</td>\n",
       "      <td>False</td>\n",
       "      <td>https://www.arbeitnow.com/jobs/companies/pipa-...</td>\n",
       "      <td>[Marketing Manager]</td>\n",
       "      <td>[]</td>\n",
       "      <td>Dresden</td>\n",
       "      <td>1699987747</td>\n",
       "    </tr>\n",
       "    <tr>\n",
       "      <th>70</th>\n",
       "      <td>talent-acquisition-manager-munich-402858</td>\n",
       "      <td>MY Humancapital GmbH</td>\n",
       "      <td>Talent Acquisition Manager (m/w/d)</td>\n",
       "      <td>&lt;p&gt;&lt;strong&gt;Join our team:&lt;/strong&gt; Candidate C...</td>\n",
       "      <td>False</td>\n",
       "      <td>https://www.arbeitnow.com/jobs/companies/my-hu...</td>\n",
       "      <td>[Recruitment and Selection]</td>\n",
       "      <td>[Vollzeit (unbefristet), hilfstätigkeit / stud...</td>\n",
       "      <td>Munich</td>\n",
       "      <td>1699987747</td>\n",
       "    </tr>\n",
       "    <tr>\n",
       "      <th>71</th>\n",
       "      <td>investment-manager-hamburg-415320</td>\n",
       "      <td>Companion Unternehmenskapital GmbH</td>\n",
       "      <td>Investment Manager (m/w/d)</td>\n",
       "      <td>&lt;p&gt;Der Companion-Fund investiert in Mehrheiten...</td>\n",
       "      <td>False</td>\n",
       "      <td>https://www.arbeitnow.com/jobs/companies/compa...</td>\n",
       "      <td>[Finance]</td>\n",
       "      <td>[berufserfahren]</td>\n",
       "      <td>Hamburg</td>\n",
       "      <td>1699987747</td>\n",
       "    </tr>\n",
       "    <tr>\n",
       "      <th>72</th>\n",
       "      <td>recruiter-active-sourcing-munich-78640</td>\n",
       "      <td>MY Humancapital GmbH</td>\n",
       "      <td>Recruiter (m/w/d) - Active Sourcing</td>\n",
       "      <td>&lt;p&gt;Unser Partnerunternehmen sucht Sie als &lt;str...</td>\n",
       "      <td>False</td>\n",
       "      <td>https://www.arbeitnow.com/jobs/companies/my-hu...</td>\n",
       "      <td>[Recruitment and Selection]</td>\n",
       "      <td>[]</td>\n",
       "      <td>Munich</td>\n",
       "      <td>1699987746</td>\n",
       "    </tr>\n",
       "    <tr>\n",
       "      <th>73</th>\n",
       "      <td>customer-service-agent-all-genders-fully-remot...</td>\n",
       "      <td>OUTFITTERY GmbH</td>\n",
       "      <td>Customer Service Agent (all genders) fully rem...</td>\n",
       "      <td>&lt;p&gt;&lt;strong&gt;OUTFITTERY&lt;/strong&gt; is the biggest ...</td>\n",
       "      <td>True</td>\n",
       "      <td>https://www.arbeitnow.com/jobs/companies/outfi...</td>\n",
       "      <td>[Remote, Customer Service]</td>\n",
       "      <td>[]</td>\n",
       "      <td>Berlin</td>\n",
       "      <td>1699987746</td>\n",
       "    </tr>\n",
       "  </tbody>\n",
       "</table>\n",
       "<p>1774 rows × 10 columns</p>\n",
       "</div>"
      ],
      "text/plain": [
       "                                                 slug  \\\n",
       "0   junior-webentwickler-schwerpunkt-wordpress-gre...   \n",
       "1   werkstudent-app-entwicklung-ios-android-hambur...   \n",
       "2          commercial-marketing-manager-munich-251088   \n",
       "3   it-kommunikationsmanager-car-configurator-ulm-...   \n",
       "4   social-performance-marketing-managerin-aschhei...   \n",
       "..                                                ...   \n",
       "69            online-marketing-manager-dresden-373708   \n",
       "70           talent-acquisition-manager-munich-402858   \n",
       "71                  investment-manager-hamburg-415320   \n",
       "72             recruiter-active-sourcing-munich-78640   \n",
       "73  customer-service-agent-all-genders-fully-remot...   \n",
       "\n",
       "                          company_name  \\\n",
       "0                         Adenion GmbH   \n",
       "1                              CHECK24   \n",
       "2                   Moltke Sports GmbH   \n",
       "3                        univativ GmbH   \n",
       "4                         Searchtalent   \n",
       "..                                 ...   \n",
       "69                           PIPA GmbH   \n",
       "70                MY Humancapital GmbH   \n",
       "71  Companion Unternehmenskapital GmbH   \n",
       "72                MY Humancapital GmbH   \n",
       "73                     OUTFITTERY GmbH   \n",
       "\n",
       "                                                title  \\\n",
       "0   Junior Webentwickler Schwerpunkt WordPress (m/...   \n",
       "1     Werkstudent (m/w/d) App-Entwicklung iOS/Android   \n",
       "2                Commercial Marketing Manager (m/w/d)   \n",
       "3   IT Kommunikationsmanager (m/w/d) Car Configurator   \n",
       "4     Social Performance Marketing Manager:in (m/w/d)   \n",
       "..                                                ...   \n",
       "69                   Online Marketing Manager (m/w/d)   \n",
       "70                 Talent Acquisition Manager (m/w/d)   \n",
       "71                         Investment Manager (m/w/d)   \n",
       "72                Recruiter (m/w/d) - Active Sourcing   \n",
       "73  Customer Service Agent (all genders) fully rem...   \n",
       "\n",
       "                                          description  remote  \\\n",
       "0   <p>Du hast Lust, mit neuesten Technologien zu ...    True   \n",
       "1   <p>Wir bei <strong>CHECK24 in Hamburg</strong>...   False   \n",
       "2   <p>Sport ist deine Leidenschaft? Dann bist Du ...   False   \n",
       "3   <p><strong>Baldmöglichst, bis zum 01.06.2025 |...   False   \n",
       "4   <p>Mit einem bunten und hochmotivierten Team v...   False   \n",
       "..                                                ...     ...   \n",
       "69  <p><strong>Unser Kunde queo:</strong></p>\\n<p>...   False   \n",
       "70  <p><strong>Join our team:</strong> Candidate C...   False   \n",
       "71  <p>Der Companion-Fund investiert in Mehrheiten...   False   \n",
       "72  <p>Unser Partnerunternehmen sucht Sie als <str...   False   \n",
       "73  <p><strong>OUTFITTERY</strong> is the biggest ...    True   \n",
       "\n",
       "                                                  url  \\\n",
       "0   https://www.arbeitnow.com/jobs/companies/adeni...   \n",
       "1   https://www.arbeitnow.com/jobs/companies/check...   \n",
       "2   https://www.arbeitnow.com/jobs/companies/moltk...   \n",
       "3   https://www.arbeitnow.com/jobs/companies/univa...   \n",
       "4   https://www.arbeitnow.com/jobs/companies/searc...   \n",
       "..                                                ...   \n",
       "69  https://www.arbeitnow.com/jobs/companies/pipa-...   \n",
       "70  https://www.arbeitnow.com/jobs/companies/my-hu...   \n",
       "71  https://www.arbeitnow.com/jobs/companies/compa...   \n",
       "72  https://www.arbeitnow.com/jobs/companies/my-hu...   \n",
       "73  https://www.arbeitnow.com/jobs/companies/outfi...   \n",
       "\n",
       "                              tags  \\\n",
       "0   [Remote, Software Development]   \n",
       "1           [Software Development]   \n",
       "2              [Marketing Manager]   \n",
       "3                             [IT]   \n",
       "4           [Social Media Manager]   \n",
       "..                             ...   \n",
       "69             [Marketing Manager]   \n",
       "70     [Recruitment and Selection]   \n",
       "71                       [Finance]   \n",
       "72     [Recruitment and Selection]   \n",
       "73      [Remote, Customer Service]   \n",
       "\n",
       "                                            job_types      location  \\\n",
       "0                                    [berufseinstieg]  Grevenbroich   \n",
       "1                                   [Working student]       Hamburg   \n",
       "2                                                  []        Munich   \n",
       "3                                                  []           Ulm   \n",
       "4                                    [berufserfahren]      Aschheim   \n",
       "..                                                ...           ...   \n",
       "69                                                 []       Dresden   \n",
       "70  [Vollzeit (unbefristet), hilfstätigkeit / stud...        Munich   \n",
       "71                                   [berufserfahren]       Hamburg   \n",
       "72                                                 []        Munich   \n",
       "73                                                 []        Berlin   \n",
       "\n",
       "    created_at  \n",
       "0   1700588945  \n",
       "1   1700588945  \n",
       "2   1700588945  \n",
       "3   1700588945  \n",
       "4   1700588945  \n",
       "..         ...  \n",
       "69  1699987747  \n",
       "70  1699987747  \n",
       "71  1699987747  \n",
       "72  1699987746  \n",
       "73  1699987746  \n",
       "\n",
       "[1774 rows x 10 columns]"
      ]
     },
     "execution_count": 23,
     "metadata": {},
     "output_type": "execute_result"
    }
   ],
   "source": [
    "arbeitnow_df = pd.DataFrame()\n",
    "\n",
    "for link in arbeitnow_links:\n",
    "    \n",
    "    response_arbeitnow = requests.get(link)\n",
    "    results_arbeitnow = response_arbeitnow.json()\n",
    "    data_arbeitnow = pd.DataFrame(results_arbeitnow['data'])\n",
    "    arbeitnow_df = pd.concat([arbeitnow_df,data_arbeitnow], axis = 0)\n",
    "\n",
    "arbeitnow_df"
   ]
  },
  {
   "cell_type": "code",
   "execution_count": null,
   "metadata": {},
   "outputs": [],
   "source": []
  },
  {
   "cell_type": "code",
   "execution_count": null,
   "metadata": {},
   "outputs": [],
   "source": []
  },
  {
   "cell_type": "code",
   "execution_count": null,
   "metadata": {},
   "outputs": [],
   "source": []
  },
  {
   "cell_type": "markdown",
   "metadata": {},
   "source": [
    "| https://api.nasa.gov/planetary/apod"
   ]
  },
  {
   "cell_type": "code",
   "execution_count": 24,
   "metadata": {},
   "outputs": [],
   "source": [
    "import getpass"
   ]
  },
  {
   "cell_type": "code",
   "execution_count": 25,
   "metadata": {},
   "outputs": [
    {
     "name": "stdout",
     "output_type": "stream",
     "text": [
      "········\n"
     ]
    }
   ],
   "source": [
    "apikey = getpass.getpass()"
   ]
  },
  {
   "cell_type": "code",
   "execution_count": 26,
   "metadata": {},
   "outputs": [
    {
     "name": "stdout",
     "output_type": "stream",
     "text": [
      "NASA APOD: 200\n"
     ]
    }
   ],
   "source": [
    "nasa_img = requests.get('https://api.nasa.gov/planetary/apod?api_key='+apikey)\n",
    "print(\"NASA APOD:\", nasa_img.status_code)"
   ]
  },
  {
   "cell_type": "code",
   "execution_count": 27,
   "metadata": {},
   "outputs": [
    {
     "data": {
      "text/plain": [
       "b'{\"copyright\":\"\\\\nCristiano Gualco\\\\n\",\"date\":\"2023-11-21\",\"explanation\":\"These chaotic and tangled filaments of shocked, glowing gas are spread across planet Earth\\'s sky toward the constellation of Cygnus as part of the Veil Nebula. The Veil Nebula itself is a large supernova remnant, an expanding cloud born of the death explosion of a massive star. Light from the original supernova explosion likely reached Earth over 5,000 years ago. The glowing filaments are really more like long ripples in a sheet seen almost edge on, remarkably well separated into the glow of ionized hydrogen atoms shown in red and oxygen in blue hues. Also known as the Cygnus Loop and cataloged as NGC 6979, the Veil Nebula now spans about 6 times the diameter of the full Moon. The length of the wisp corresponds to about 30 light years, given its estimated distance of 2,400 light years.  Often identified as Pickering\\'s Triangle for a director of Harvard College Observatory, it is perhaps better named for its discoverer, astronomer Williamina Fleming, as Fleming\\'s Triangular Wisp.   New: Follow APOD on Telegram\",\"hdurl\":\"https://apod.nasa.gov/apod/image/2311/FlemingsWisp_Gualco_2801.jpg\",\"media_type\":\"image\",\"service_version\":\"v1\",\"title\":\"Fleming\\'s Triangular Wisp\",\"url\":\"https://apod.nasa.gov/apod/image/2311/FlemingsWisp_Gualco_960.jpg\"}\\n'"
      ]
     },
     "execution_count": 27,
     "metadata": {},
     "output_type": "execute_result"
    }
   ],
   "source": [
    "nasa_img.content"
   ]
  },
  {
   "cell_type": "code",
   "execution_count": 28,
   "metadata": {},
   "outputs": [
    {
     "data": {
      "text/plain": [
       "{'copyright': '\\nCristiano Gualco\\n',\n",
       " 'date': '2023-11-21',\n",
       " 'explanation': \"These chaotic and tangled filaments of shocked, glowing gas are spread across planet Earth's sky toward the constellation of Cygnus as part of the Veil Nebula. The Veil Nebula itself is a large supernova remnant, an expanding cloud born of the death explosion of a massive star. Light from the original supernova explosion likely reached Earth over 5,000 years ago. The glowing filaments are really more like long ripples in a sheet seen almost edge on, remarkably well separated into the glow of ionized hydrogen atoms shown in red and oxygen in blue hues. Also known as the Cygnus Loop and cataloged as NGC 6979, the Veil Nebula now spans about 6 times the diameter of the full Moon. The length of the wisp corresponds to about 30 light years, given its estimated distance of 2,400 light years.  Often identified as Pickering's Triangle for a director of Harvard College Observatory, it is perhaps better named for its discoverer, astronomer Williamina Fleming, as Fleming's Triangular Wisp.   New: Follow APOD on Telegram\",\n",
       " 'hdurl': 'https://apod.nasa.gov/apod/image/2311/FlemingsWisp_Gualco_2801.jpg',\n",
       " 'media_type': 'image',\n",
       " 'service_version': 'v1',\n",
       " 'title': \"Fleming's Triangular Wisp\",\n",
       " 'url': 'https://apod.nasa.gov/apod/image/2311/FlemingsWisp_Gualco_960.jpg'}"
      ]
     },
     "execution_count": 28,
     "metadata": {},
     "output_type": "execute_result"
    }
   ],
   "source": [
    "results_nasa_img = nasa_img.json()\n",
    "dict(results_nasa_img)"
   ]
  },
  {
   "cell_type": "code",
   "execution_count": 29,
   "metadata": {},
   "outputs": [
    {
     "data": {
      "text/html": [
       "<div>\n",
       "<style scoped>\n",
       "    .dataframe tbody tr th:only-of-type {\n",
       "        vertical-align: middle;\n",
       "    }\n",
       "\n",
       "    .dataframe tbody tr th {\n",
       "        vertical-align: top;\n",
       "    }\n",
       "\n",
       "    .dataframe thead th {\n",
       "        text-align: right;\n",
       "    }\n",
       "</style>\n",
       "<table border=\"1\" class=\"dataframe\">\n",
       "  <thead>\n",
       "    <tr style=\"text-align: right;\">\n",
       "      <th></th>\n",
       "      <th>copyright</th>\n",
       "      <th>date</th>\n",
       "      <th>explanation</th>\n",
       "      <th>hdurl</th>\n",
       "      <th>media_type</th>\n",
       "      <th>service_version</th>\n",
       "      <th>title</th>\n",
       "      <th>url</th>\n",
       "    </tr>\n",
       "  </thead>\n",
       "  <tbody>\n",
       "    <tr>\n",
       "      <th>0</th>\n",
       "      <td>\\nCristiano Gualco\\n</td>\n",
       "      <td>2023-11-21</td>\n",
       "      <td>These chaotic and tangled filaments of shocked...</td>\n",
       "      <td>https://apod.nasa.gov/apod/image/2311/Flemings...</td>\n",
       "      <td>image</td>\n",
       "      <td>v1</td>\n",
       "      <td>Fleming's Triangular Wisp</td>\n",
       "      <td>https://apod.nasa.gov/apod/image/2311/Flemings...</td>\n",
       "    </tr>\n",
       "  </tbody>\n",
       "</table>\n",
       "</div>"
      ],
      "text/plain": [
       "              copyright        date  \\\n",
       "0  \\nCristiano Gualco\\n  2023-11-21   \n",
       "\n",
       "                                         explanation  \\\n",
       "0  These chaotic and tangled filaments of shocked...   \n",
       "\n",
       "                                               hdurl media_type  \\\n",
       "0  https://apod.nasa.gov/apod/image/2311/Flemings...      image   \n",
       "\n",
       "  service_version                      title  \\\n",
       "0              v1  Fleming's Triangular Wisp   \n",
       "\n",
       "                                                 url  \n",
       "0  https://apod.nasa.gov/apod/image/2311/Flemings...  "
      ]
     },
     "execution_count": 29,
     "metadata": {},
     "output_type": "execute_result"
    }
   ],
   "source": [
    "nasa_apod = pd.DataFrame.from_dict(results_nasa_img,orient='index').T\n",
    "nasa_apod "
   ]
  },
  {
   "cell_type": "code",
   "execution_count": null,
   "metadata": {},
   "outputs": [],
   "source": []
  },
  {
   "cell_type": "code",
   "execution_count": null,
   "metadata": {},
   "outputs": [],
   "source": []
  },
  {
   "cell_type": "code",
   "execution_count": null,
   "metadata": {},
   "outputs": [],
   "source": []
  },
  {
   "cell_type": "markdown",
   "metadata": {},
   "source": [
    "### southpark-quotes-api "
   ]
  },
  {
   "cell_type": "markdown",
   "metadata": {},
   "source": [
    "https://github.com/Thatskat/southpark-quotes-api#api"
   ]
  },
  {
   "cell_type": "code",
   "execution_count": 30,
   "metadata": {},
   "outputs": [
    {
     "name": "stdout",
     "output_type": "stream",
     "text": [
      "South Park Quotes: 200\n"
     ]
    }
   ],
   "source": [
    "spq = requests.get('https://southparkquotes.onrender.com/v1/quotes/search/randy')\n",
    "print(\"South Park Quotes:\", spq.status_code)"
   ]
  },
  {
   "cell_type": "code",
   "execution_count": 31,
   "metadata": {},
   "outputs": [],
   "source": [
    "# spq.content"
   ]
  },
  {
   "cell_type": "code",
   "execution_count": 34,
   "metadata": {},
   "outputs": [
    {
     "data": {
      "text/plain": [
       "list"
      ]
     },
     "execution_count": 34,
     "metadata": {},
     "output_type": "execute_result"
    }
   ],
   "source": [
    "results_spq = spq.json()\n",
    "type(results_spq)"
   ]
  },
  {
   "cell_type": "code",
   "execution_count": 35,
   "metadata": {},
   "outputs": [],
   "source": [
    "south_park_quotes = pd.DataFrame(results_spq)"
   ]
  },
  {
   "cell_type": "code",
   "execution_count": 43,
   "metadata": {},
   "outputs": [],
   "source": [
    "pd.set_option('display.max_colwidth',250)"
   ]
  },
  {
   "cell_type": "code",
   "execution_count": 44,
   "metadata": {},
   "outputs": [
    {
     "data": {
      "text/html": [
       "<div>\n",
       "<style scoped>\n",
       "    .dataframe tbody tr th:only-of-type {\n",
       "        vertical-align: middle;\n",
       "    }\n",
       "\n",
       "    .dataframe tbody tr th {\n",
       "        vertical-align: top;\n",
       "    }\n",
       "\n",
       "    .dataframe thead th {\n",
       "        text-align: right;\n",
       "    }\n",
       "</style>\n",
       "<table border=\"1\" class=\"dataframe\">\n",
       "  <thead>\n",
       "    <tr style=\"text-align: right;\">\n",
       "      <th></th>\n",
       "      <th>quote</th>\n",
       "      <th>character</th>\n",
       "    </tr>\n",
       "  </thead>\n",
       "  <tbody>\n",
       "    <tr>\n",
       "      <th>0</th>\n",
       "      <td>as you get older, boobs will start becoming a major part of your life. but you can’t let them get in the way of your friends. there are a lot of boobs out there. but they’re just boobs. your friends are forever.</td>\n",
       "      <td>randy</td>\n",
       "    </tr>\n",
       "    <tr>\n",
       "      <th>1</th>\n",
       "      <td>we must stop frivolous spending! instead of paying for cable, let us watch clouds! instead of buying clothes, wear but sheets from thine beds! cut spending to only the bare essentials! water and bread and margaritas!</td>\n",
       "      <td>randy</td>\n",
       "    </tr>\n",
       "    <tr>\n",
       "      <th>2</th>\n",
       "      <td>oh, i forgot to tell you that part. i'm lorde.</td>\n",
       "      <td>randy</td>\n",
       "    </tr>\n",
       "    <tr>\n",
       "      <th>3</th>\n",
       "      <td>i ammm lorde. lawdy lawdy lorde!</td>\n",
       "      <td>randy</td>\n",
       "    </tr>\n",
       "    <tr>\n",
       "      <th>4</th>\n",
       "      <td>winter's coming, sharon, and i'm a busy little bee. buzz! buzz!</td>\n",
       "      <td>randy</td>\n",
       "    </tr>\n",
       "    <tr>\n",
       "      <th>5</th>\n",
       "      <td>oh, i’m sorry! i thought this was america!</td>\n",
       "      <td>randy</td>\n",
       "    </tr>\n",
       "    <tr>\n",
       "      <th>6</th>\n",
       "      <td>i’m not having a glass of wine, i’m having six. it’s called a tasting, and it’s classy.</td>\n",
       "      <td>randy</td>\n",
       "    </tr>\n",
       "    <tr>\n",
       "      <th>7</th>\n",
       "      <td>you do not say 'big silly goose,' you call him an asshole like a normal kid!</td>\n",
       "      <td>randy</td>\n",
       "    </tr>\n",
       "    <tr>\n",
       "      <th>8</th>\n",
       "      <td>there's plenty of other interesting things you can do. have you ever tried marijuana. maybe it's time.</td>\n",
       "      <td>randy</td>\n",
       "    </tr>\n",
       "    <tr>\n",
       "      <th>9</th>\n",
       "      <td>i'm not chugging beer! i'm sampling a flight of gluten-free german lagers with a french wine pairing! it's called a smorgaswein and it's elegantly cultural!</td>\n",
       "      <td>randy</td>\n",
       "    </tr>\n",
       "    <tr>\n",
       "      <th>10</th>\n",
       "      <td>this disease is just eating me up! i hate my illness!</td>\n",
       "      <td>randy</td>\n",
       "    </tr>\n",
       "    <tr>\n",
       "      <th>11</th>\n",
       "      <td>the players should all wear bras! and instead of helmets, they should wear little tinfoil hats, 'cause, you know, it's the future and we shouldn't be so barbaric!</td>\n",
       "      <td>randy</td>\n",
       "    </tr>\n",
       "    <tr>\n",
       "      <th>12</th>\n",
       "      <td>just gonna get a little bit of cancer, stan. tell mom it's okay.</td>\n",
       "      <td>randy</td>\n",
       "    </tr>\n",
       "    <tr>\n",
       "      <th>13</th>\n",
       "      <td>creme fraiche, cafeteria fraiche. lalalalala fraiche. ho ho hohoho.</td>\n",
       "      <td>randy</td>\n",
       "    </tr>\n",
       "    <tr>\n",
       "      <th>14</th>\n",
       "      <td>i'll make less money, sure, but ... as long as i buy everything at wall-mart, it'll all even out. don't you see? wall-mart isn't our enemy, it's our neighborhood friend.</td>\n",
       "      <td>randy</td>\n",
       "    </tr>\n",
       "    <tr>\n",
       "      <th>15</th>\n",
       "      <td>god, why do the economically challenged always have to screw up everything?!</td>\n",
       "      <td>randy</td>\n",
       "    </tr>\n",
       "    <tr>\n",
       "      <th>16</th>\n",
       "      <td>yeah, well just like the rest of us, you have to make choices with your money. do you want a bike, or do you not want to be depressed?</td>\n",
       "      <td>randy</td>\n",
       "    </tr>\n",
       "    <tr>\n",
       "      <th>17</th>\n",
       "      <td>it’s simple economics, son. i don’t understand it at all, but god, i love it!</td>\n",
       "      <td>randy</td>\n",
       "    </tr>\n",
       "    <tr>\n",
       "      <th>18</th>\n",
       "      <td>your mother was worried sick and i was here drinking beer.</td>\n",
       "      <td>randy</td>\n",
       "    </tr>\n",
       "  </tbody>\n",
       "</table>\n",
       "</div>"
      ],
      "text/plain": [
       "                                                                                                                                                                                                                       quote  \\\n",
       "0        as you get older, boobs will start becoming a major part of your life. but you can’t let them get in the way of your friends. there are a lot of boobs out there. but they’re just boobs. your friends are forever.   \n",
       "1   we must stop frivolous spending! instead of paying for cable, let us watch clouds! instead of buying clothes, wear but sheets from thine beds! cut spending to only the bare essentials! water and bread and margaritas!   \n",
       "2                                                                                                                                                                             oh, i forgot to tell you that part. i'm lorde.   \n",
       "3                                                                                                                                                                                           i ammm lorde. lawdy lawdy lorde!   \n",
       "4                                                                                                                                                            winter's coming, sharon, and i'm a busy little bee. buzz! buzz!   \n",
       "5                                                                                                                                                                                 oh, i’m sorry! i thought this was america!   \n",
       "6                                                                                                                                    i’m not having a glass of wine, i’m having six. it’s called a tasting, and it’s classy.   \n",
       "7                                                                                                                                               you do not say 'big silly goose,' you call him an asshole like a normal kid!   \n",
       "8                                                                                                                     there's plenty of other interesting things you can do. have you ever tried marijuana. maybe it's time.   \n",
       "9                                                               i'm not chugging beer! i'm sampling a flight of gluten-free german lagers with a french wine pairing! it's called a smorgaswein and it's elegantly cultural!   \n",
       "10                                                                                                                                                                     this disease is just eating me up! i hate my illness!   \n",
       "11                                                        the players should all wear bras! and instead of helmets, they should wear little tinfoil hats, 'cause, you know, it's the future and we shouldn't be so barbaric!   \n",
       "12                                                                                                                                                          just gonna get a little bit of cancer, stan. tell mom it's okay.   \n",
       "13                                                                                                                                                       creme fraiche, cafeteria fraiche. lalalalala fraiche. ho ho hohoho.   \n",
       "14                                                 i'll make less money, sure, but ... as long as i buy everything at wall-mart, it'll all even out. don't you see? wall-mart isn't our enemy, it's our neighborhood friend.   \n",
       "15                                                                                                                                              god, why do the economically challenged always have to screw up everything?!   \n",
       "16                                                                                    yeah, well just like the rest of us, you have to make choices with your money. do you want a bike, or do you not want to be depressed?   \n",
       "17                                                                                                                                             it’s simple economics, son. i don’t understand it at all, but god, i love it!   \n",
       "18                                                                                                                                                                your mother was worried sick and i was here drinking beer.   \n",
       "\n",
       "   character  \n",
       "0      randy  \n",
       "1      randy  \n",
       "2      randy  \n",
       "3      randy  \n",
       "4      randy  \n",
       "5      randy  \n",
       "6      randy  \n",
       "7      randy  \n",
       "8      randy  \n",
       "9      randy  \n",
       "10     randy  \n",
       "11     randy  \n",
       "12     randy  \n",
       "13     randy  \n",
       "14     randy  \n",
       "15     randy  \n",
       "16     randy  \n",
       "17     randy  \n",
       "18     randy  "
      ]
     },
     "execution_count": 44,
     "metadata": {},
     "output_type": "execute_result"
    }
   ],
   "source": [
    "south_park_quotes"
   ]
  },
  {
   "cell_type": "code",
   "execution_count": null,
   "metadata": {},
   "outputs": [],
   "source": []
  },
  {
   "cell_type": "code",
   "execution_count": null,
   "metadata": {},
   "outputs": [],
   "source": []
  },
  {
   "cell_type": "code",
   "execution_count": null,
   "metadata": {},
   "outputs": [],
   "source": []
  },
  {
   "cell_type": "markdown",
   "metadata": {},
   "source": [
    "### ice-and-fire-api"
   ]
  },
  {
   "cell_type": "code",
   "execution_count": 54,
   "metadata": {},
   "outputs": [
    {
     "name": "stdout",
     "output_type": "stream",
     "text": [
      "Ice & Fire: 200\n"
     ]
    }
   ],
   "source": [
    "ice_and_fire = requests.get('https://anapioficeandfire.com/api/characters/583')\n",
    "print(\"Ice & Fire:\", ice_and_fire.status_code)"
   ]
  },
  {
   "cell_type": "code",
   "execution_count": 67,
   "metadata": {},
   "outputs": [],
   "source": [
    "# ice_and_fire.content"
   ]
  },
  {
   "cell_type": "code",
   "execution_count": 66,
   "metadata": {},
   "outputs": [
    {
     "data": {
      "text/plain": [
       "{'url': 'https://anapioficeandfire.com/api/characters/583',\n",
       " 'name': 'Jon Snow',\n",
       " 'gender': 'Male',\n",
       " 'culture': 'Northmen',\n",
       " 'born': 'In 283 AC',\n",
       " 'died': '',\n",
       " 'titles': [\"Lord Commander of the Night's Watch\"],\n",
       " 'aliases': ['Lord Snow',\n",
       "  \"Ned Stark's Bastard\",\n",
       "  'The Snow of Winterfell',\n",
       "  'The Crow-Come-Over',\n",
       "  \"The 998th Lord Commander of the Night's Watch\",\n",
       "  'The Bastard of Winterfell',\n",
       "  'The Black Bastard of the Wall',\n",
       "  'Lord Crow'],\n",
       " 'father': '',\n",
       " 'mother': '',\n",
       " 'spouse': '',\n",
       " 'allegiances': ['https://anapioficeandfire.com/api/houses/362'],\n",
       " 'books': ['https://anapioficeandfire.com/api/books/5'],\n",
       " 'povBooks': ['https://anapioficeandfire.com/api/books/1',\n",
       "  'https://anapioficeandfire.com/api/books/2',\n",
       "  'https://anapioficeandfire.com/api/books/3',\n",
       "  'https://anapioficeandfire.com/api/books/8'],\n",
       " 'tvSeries': ['Season 1',\n",
       "  'Season 2',\n",
       "  'Season 3',\n",
       "  'Season 4',\n",
       "  'Season 5',\n",
       "  'Season 6'],\n",
       " 'playedBy': ['Kit Harington']}"
      ]
     },
     "execution_count": 66,
     "metadata": {},
     "output_type": "execute_result"
    }
   ],
   "source": [
    "results_ice_and_fire = ice_and_fire.json()\n",
    "dict(results_ice_and_fire)"
   ]
  },
  {
   "cell_type": "code",
   "execution_count": 62,
   "metadata": {},
   "outputs": [
    {
     "ename": "ValueError",
     "evalue": "All arrays must be of the same length",
     "output_type": "error",
     "traceback": [
      "\u001b[1;31m---------------------------------------------------------------------------\u001b[0m",
      "\u001b[1;31mValueError\u001b[0m                                Traceback (most recent call last)",
      "Cell \u001b[1;32mIn[62], line 1\u001b[0m\n\u001b[1;32m----> 1\u001b[0m ice_ad_fire_df \u001b[38;5;241m=\u001b[39m pd\u001b[38;5;241m.\u001b[39mDataFrame\u001b[38;5;241m.\u001b[39mfrom_dict(results_ice_and_fire)\u001b[38;5;241m.\u001b[39mT\n",
      "File \u001b[1;32m~\\anaconda3\\Lib\\site-packages\\pandas\\core\\frame.py:1764\u001b[0m, in \u001b[0;36mDataFrame.from_dict\u001b[1;34m(cls, data, orient, dtype, columns)\u001b[0m\n\u001b[0;32m   1758\u001b[0m     \u001b[38;5;28;01mraise\u001b[39;00m \u001b[38;5;167;01mValueError\u001b[39;00m(\n\u001b[0;32m   1759\u001b[0m         \u001b[38;5;124mf\u001b[39m\u001b[38;5;124m\"\u001b[39m\u001b[38;5;124mExpected \u001b[39m\u001b[38;5;124m'\u001b[39m\u001b[38;5;124mindex\u001b[39m\u001b[38;5;124m'\u001b[39m\u001b[38;5;124m, \u001b[39m\u001b[38;5;124m'\u001b[39m\u001b[38;5;124mcolumns\u001b[39m\u001b[38;5;124m'\u001b[39m\u001b[38;5;124m or \u001b[39m\u001b[38;5;124m'\u001b[39m\u001b[38;5;124mtight\u001b[39m\u001b[38;5;124m'\u001b[39m\u001b[38;5;124m for orient parameter. \u001b[39m\u001b[38;5;124m\"\u001b[39m\n\u001b[0;32m   1760\u001b[0m         \u001b[38;5;124mf\u001b[39m\u001b[38;5;124m\"\u001b[39m\u001b[38;5;124mGot \u001b[39m\u001b[38;5;124m'\u001b[39m\u001b[38;5;132;01m{\u001b[39;00morient\u001b[38;5;132;01m}\u001b[39;00m\u001b[38;5;124m'\u001b[39m\u001b[38;5;124m instead\u001b[39m\u001b[38;5;124m\"\u001b[39m\n\u001b[0;32m   1761\u001b[0m     )\n\u001b[0;32m   1763\u001b[0m \u001b[38;5;28;01mif\u001b[39;00m orient \u001b[38;5;241m!=\u001b[39m \u001b[38;5;124m\"\u001b[39m\u001b[38;5;124mtight\u001b[39m\u001b[38;5;124m\"\u001b[39m:\n\u001b[1;32m-> 1764\u001b[0m     \u001b[38;5;28;01mreturn\u001b[39;00m \u001b[38;5;28mcls\u001b[39m(data, index\u001b[38;5;241m=\u001b[39mindex, columns\u001b[38;5;241m=\u001b[39mcolumns, dtype\u001b[38;5;241m=\u001b[39mdtype)\n\u001b[0;32m   1765\u001b[0m \u001b[38;5;28;01melse\u001b[39;00m:\n\u001b[0;32m   1766\u001b[0m     realdata \u001b[38;5;241m=\u001b[39m data[\u001b[38;5;124m\"\u001b[39m\u001b[38;5;124mdata\u001b[39m\u001b[38;5;124m\"\u001b[39m]\n",
      "File \u001b[1;32m~\\anaconda3\\Lib\\site-packages\\pandas\\core\\frame.py:664\u001b[0m, in \u001b[0;36mDataFrame.__init__\u001b[1;34m(self, data, index, columns, dtype, copy)\u001b[0m\n\u001b[0;32m    658\u001b[0m     mgr \u001b[38;5;241m=\u001b[39m \u001b[38;5;28mself\u001b[39m\u001b[38;5;241m.\u001b[39m_init_mgr(\n\u001b[0;32m    659\u001b[0m         data, axes\u001b[38;5;241m=\u001b[39m{\u001b[38;5;124m\"\u001b[39m\u001b[38;5;124mindex\u001b[39m\u001b[38;5;124m\"\u001b[39m: index, \u001b[38;5;124m\"\u001b[39m\u001b[38;5;124mcolumns\u001b[39m\u001b[38;5;124m\"\u001b[39m: columns}, dtype\u001b[38;5;241m=\u001b[39mdtype, copy\u001b[38;5;241m=\u001b[39mcopy\n\u001b[0;32m    660\u001b[0m     )\n\u001b[0;32m    662\u001b[0m \u001b[38;5;28;01melif\u001b[39;00m \u001b[38;5;28misinstance\u001b[39m(data, \u001b[38;5;28mdict\u001b[39m):\n\u001b[0;32m    663\u001b[0m     \u001b[38;5;66;03m# GH#38939 de facto copy defaults to False only in non-dict cases\u001b[39;00m\n\u001b[1;32m--> 664\u001b[0m     mgr \u001b[38;5;241m=\u001b[39m dict_to_mgr(data, index, columns, dtype\u001b[38;5;241m=\u001b[39mdtype, copy\u001b[38;5;241m=\u001b[39mcopy, typ\u001b[38;5;241m=\u001b[39mmanager)\n\u001b[0;32m    665\u001b[0m \u001b[38;5;28;01melif\u001b[39;00m \u001b[38;5;28misinstance\u001b[39m(data, ma\u001b[38;5;241m.\u001b[39mMaskedArray):\n\u001b[0;32m    666\u001b[0m     \u001b[38;5;28;01mimport\u001b[39;00m \u001b[38;5;21;01mnumpy\u001b[39;00m\u001b[38;5;21;01m.\u001b[39;00m\u001b[38;5;21;01mma\u001b[39;00m\u001b[38;5;21;01m.\u001b[39;00m\u001b[38;5;21;01mmrecords\u001b[39;00m \u001b[38;5;28;01mas\u001b[39;00m \u001b[38;5;21;01mmrecords\u001b[39;00m\n",
      "File \u001b[1;32m~\\anaconda3\\Lib\\site-packages\\pandas\\core\\internals\\construction.py:493\u001b[0m, in \u001b[0;36mdict_to_mgr\u001b[1;34m(data, index, columns, dtype, typ, copy)\u001b[0m\n\u001b[0;32m    489\u001b[0m     \u001b[38;5;28;01melse\u001b[39;00m:\n\u001b[0;32m    490\u001b[0m         \u001b[38;5;66;03m# dtype check to exclude e.g. range objects, scalars\u001b[39;00m\n\u001b[0;32m    491\u001b[0m         arrays \u001b[38;5;241m=\u001b[39m [x\u001b[38;5;241m.\u001b[39mcopy() \u001b[38;5;28;01mif\u001b[39;00m \u001b[38;5;28mhasattr\u001b[39m(x, \u001b[38;5;124m\"\u001b[39m\u001b[38;5;124mdtype\u001b[39m\u001b[38;5;124m\"\u001b[39m) \u001b[38;5;28;01melse\u001b[39;00m x \u001b[38;5;28;01mfor\u001b[39;00m x \u001b[38;5;129;01min\u001b[39;00m arrays]\n\u001b[1;32m--> 493\u001b[0m \u001b[38;5;28;01mreturn\u001b[39;00m arrays_to_mgr(arrays, columns, index, dtype\u001b[38;5;241m=\u001b[39mdtype, typ\u001b[38;5;241m=\u001b[39mtyp, consolidate\u001b[38;5;241m=\u001b[39mcopy)\n",
      "File \u001b[1;32m~\\anaconda3\\Lib\\site-packages\\pandas\\core\\internals\\construction.py:118\u001b[0m, in \u001b[0;36marrays_to_mgr\u001b[1;34m(arrays, columns, index, dtype, verify_integrity, typ, consolidate)\u001b[0m\n\u001b[0;32m    115\u001b[0m \u001b[38;5;28;01mif\u001b[39;00m verify_integrity:\n\u001b[0;32m    116\u001b[0m     \u001b[38;5;66;03m# figure out the index, if necessary\u001b[39;00m\n\u001b[0;32m    117\u001b[0m     \u001b[38;5;28;01mif\u001b[39;00m index \u001b[38;5;129;01mis\u001b[39;00m \u001b[38;5;28;01mNone\u001b[39;00m:\n\u001b[1;32m--> 118\u001b[0m         index \u001b[38;5;241m=\u001b[39m _extract_index(arrays)\n\u001b[0;32m    119\u001b[0m     \u001b[38;5;28;01melse\u001b[39;00m:\n\u001b[0;32m    120\u001b[0m         index \u001b[38;5;241m=\u001b[39m ensure_index(index)\n",
      "File \u001b[1;32m~\\anaconda3\\Lib\\site-packages\\pandas\\core\\internals\\construction.py:666\u001b[0m, in \u001b[0;36m_extract_index\u001b[1;34m(data)\u001b[0m\n\u001b[0;32m    664\u001b[0m lengths \u001b[38;5;241m=\u001b[39m \u001b[38;5;28mlist\u001b[39m(\u001b[38;5;28mset\u001b[39m(raw_lengths))\n\u001b[0;32m    665\u001b[0m \u001b[38;5;28;01mif\u001b[39;00m \u001b[38;5;28mlen\u001b[39m(lengths) \u001b[38;5;241m>\u001b[39m \u001b[38;5;241m1\u001b[39m:\n\u001b[1;32m--> 666\u001b[0m     \u001b[38;5;28;01mraise\u001b[39;00m \u001b[38;5;167;01mValueError\u001b[39;00m(\u001b[38;5;124m\"\u001b[39m\u001b[38;5;124mAll arrays must be of the same length\u001b[39m\u001b[38;5;124m\"\u001b[39m)\n\u001b[0;32m    668\u001b[0m \u001b[38;5;28;01mif\u001b[39;00m have_dicts:\n\u001b[0;32m    669\u001b[0m     \u001b[38;5;28;01mraise\u001b[39;00m \u001b[38;5;167;01mValueError\u001b[39;00m(\n\u001b[0;32m    670\u001b[0m         \u001b[38;5;124m\"\u001b[39m\u001b[38;5;124mMixing dicts with non-Series may lead to ambiguous ordering.\u001b[39m\u001b[38;5;124m\"\u001b[39m\n\u001b[0;32m    671\u001b[0m     )\n",
      "\u001b[1;31mValueError\u001b[0m: All arrays must be of the same length"
     ]
    }
   ],
   "source": [
    "# ice_ad_fire_df = pd.DataFrame.from_dict(results_ice_and_fire).T"
   ]
  },
  {
   "cell_type": "code",
   "execution_count": null,
   "metadata": {},
   "outputs": [],
   "source": []
  },
  {
   "cell_type": "code",
   "execution_count": null,
   "metadata": {},
   "outputs": [],
   "source": []
  },
  {
   "cell_type": "code",
   "execution_count": null,
   "metadata": {},
   "outputs": [],
   "source": []
  }
 ],
 "metadata": {
  "kernelspec": {
   "display_name": "Python 3 (ipykernel)",
   "language": "python",
   "name": "python3"
  },
  "language_info": {
   "codemirror_mode": {
    "name": "ipython",
    "version": 3
   },
   "file_extension": ".py",
   "mimetype": "text/x-python",
   "name": "python",
   "nbconvert_exporter": "python",
   "pygments_lexer": "ipython3",
   "version": "3.11.4"
  }
 },
 "nbformat": 4,
 "nbformat_minor": 4
}
